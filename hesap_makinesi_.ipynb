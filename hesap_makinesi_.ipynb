{
  "nbformat": 4,
  "nbformat_minor": 0,
  "metadata": {
    "colab": {
      "provenance": [],
      "authorship_tag": "ABX9TyN9XnuU9deAv2CaOaUKAo0U",
      "include_colab_link": true
    },
    "kernelspec": {
      "name": "python3",
      "display_name": "Python 3"
    },
    "language_info": {
      "name": "python"
    }
  },
  "cells": [
    {
      "cell_type": "markdown",
      "metadata": {
        "id": "view-in-github",
        "colab_type": "text"
      },
      "source": [
        "<a href=\"https://colab.research.google.com/github/yalntue/Hello-World/blob/main/hesap_makinesi_.ipynb\" target=\"_parent\"><img src=\"https://colab.research.google.com/assets/colab-badge.svg\" alt=\"Open In Colab\"/></a>"
      ]
    },
    {
      "cell_type": "code",
      "execution_count": null,
      "metadata": {
        "colab": {
          "base_uri": "https://localhost:8080/"
        },
        "id": "21P7SAbsHg7j",
        "outputId": "4eb0ef0b-393f-47ac-859b-b3f5a4849419"
      },
      "outputs": [
        {
          "output_type": "stream",
          "name": "stdout",
          "text": [
            "Lütfen birinci sayıyı giriniz:465\n",
            "Lütfen ikinci sayıyı giriniz:45\n",
            "\n",
            "Toplam: 510 \n",
            "Çıkarma: 420 \n",
            "Çarpım: 20925 \n",
            "Bölüm: 10.333333333333334\n"
          ]
        }
      ],
      "source": [
        "#Basit hesap makinesi\n",
        "\n",
        "sayı1 = int(input(\"Lütfen birinci sayıyı giriniz:\"))\n",
        "sayı2 = int(input(\"Lütfen ikinci sayıyı giriniz:\"))\n",
        "\n",
        "#İlk iki satırda input fonksiyonunu kullanarak integer cinsinden veri talebinde bulunduk.\n",
        "\n",
        "toplama = sayı1 + sayı2\n",
        "çıkarma = sayı1 - sayı2\n",
        "çarpma = sayı1 * sayı2\n",
        "bölme = sayı1 / sayı2\n",
        "\n",
        "#\"\\n\" ile çıktıların alt alta yazılmasını sağladık. \n",
        "\n",
        "print (\"\\n\"\"Toplam:\", toplama, \"\\n\"\"Çıkarma:\", çıkarma, \"\\n\"\"Çarpım:\", çarpma, \"\\n\"\"Bölüm:\", bölme)"
      ]
    }
  ]
}